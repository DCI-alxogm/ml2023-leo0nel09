{
  "nbformat": 4,
  "nbformat_minor": 0,
  "metadata": {
    "colab": {
      "provenance": [],
      "authorship_tag": "ABX9TyMIuHtyb30miEV+GZuRFSxu",
      "include_colab_link": true
    },
    "kernelspec": {
      "name": "python3",
      "display_name": "Python 3"
    },
    "language_info": {
      "name": "python"
    }
  },
  "cells": [
    {
      "cell_type": "markdown",
      "metadata": {
        "id": "view-in-github",
        "colab_type": "text"
      },
      "source": [
        "<a href=\"https://colab.research.google.com/github/DCI-alxogm/ml2023-leo0nel09/blob/main/ago11-12/miprimernotebook.ipynb\" target=\"_parent\"><img src=\"https://colab.research.google.com/assets/colab-badge.svg\" alt=\"Open In Colab\"/></a>"
      ]
    },
    {
      "cell_type": "markdown",
      "source": [
        "lista1=[\"hola\", 2, 2.11]\n",
        "print(lista1)"
      ],
      "metadata": {
        "id": "Oa-8WJQu7edp"
      }
    },
    {
      "cell_type": "code",
      "source": [],
      "metadata": {
        "id": "PVF3tVCeywau"
      },
      "execution_count": null,
      "outputs": []
    },
    {
      "cell_type": "code",
      "source": [
        "lista2=[\"kevin\", 3]\n",
        "x=lista1\n"
      ],
      "metadata": {
        "id": "5KtkB2TuxoRA",
        "outputId": "6f538759-e4f1-4722-c6c0-432fbd5d19fb",
        "colab": {
          "base_uri": "https://localhost:8080/"
        }
      },
      "execution_count": 16,
      "outputs": [
        {
          "output_type": "stream",
          "name": "stdout",
          "text": [
            "['hola', 2.11]\n"
          ]
        }
      ]
    },
    {
      "cell_type": "code",
      "source": [
        "print(x)"
      ],
      "metadata": {
        "id": "9WgorEflytF-",
        "outputId": "89e97df0-64ff-4d3f-d6e7-b9e7a1f5d09e",
        "colab": {
          "base_uri": "https://localhost:8080/"
        }
      },
      "execution_count": 17,
      "outputs": [
        {
          "output_type": "stream",
          "name": "stdout",
          "text": [
            "['hola', 2.11]\n"
          ]
        }
      ]
    },
    {
      "cell_type": "code",
      "source": [
        "lista1.append(\"yepez\")\n",
        "print(lista1)\n",
        "lista1.insert(2,\"hola\")\n",
        "lista1"
      ],
      "metadata": {
        "id": "2no5_djQzGg2",
        "outputId": "0eb1dc1c-7ccf-4975-b654-d4f01d584118",
        "colab": {
          "base_uri": "https://localhost:8080/"
        }
      },
      "execution_count": 21,
      "outputs": [
        {
          "output_type": "stream",
          "name": "stdout",
          "text": [
            "['hola', 2.11, 'mamita', 'yepez', 'yepez', 'yepez', 'yepez']\n"
          ]
        },
        {
          "output_type": "execute_result",
          "data": {
            "text/plain": [
              "['hola', 2.11, 'mamita', 'mamita', 'yepez', 'yepez', 'yepez', 'yepez']"
            ]
          },
          "metadata": {},
          "execution_count": 21
        }
      ]
    },
    {
      "cell_type": "code",
      "source": [
        "for i in lista1:\n",
        "  print(i)\n"
      ],
      "metadata": {
        "id": "qSpTzVX-1ADG",
        "outputId": "125e81e6-4f32-4235-a2c1-041ebe2dc0cf",
        "colab": {
          "base_uri": "https://localhost:8080/"
        }
      },
      "execution_count": 25,
      "outputs": [
        {
          "output_type": "stream",
          "name": "stdout",
          "text": [
            "hola\n",
            "2.11\n",
            "mamita\n",
            "mamita\n",
            "yepez\n",
            "yepez\n",
            "yepez\n",
            "yepez\n",
            "Object `len(lista1)` not found.\n"
          ]
        }
      ]
    },
    {
      "cell_type": "code",
      "source": [
        "for i in range(len(lista1)):\n",
        "  print(lista[i])"
      ],
      "metadata": {
        "id": "QSEO4JpJ1u9j"
      },
      "execution_count": null,
      "outputs": []
    },
    {
      "cell_type": "code",
      "source": [
        "for i, item in enumerate(lista1):\n",
        "  print(i, item)"
      ],
      "metadata": {
        "id": "ckZtN6C32egt",
        "outputId": "b152c9bd-807d-4e79-cd8f-4e62da490acf",
        "colab": {
          "base_uri": "https://localhost:8080/"
        }
      },
      "execution_count": 29,
      "outputs": [
        {
          "output_type": "stream",
          "name": "stdout",
          "text": [
            "0 hola\n",
            "1 2.11\n",
            "2 mamita\n",
            "3 mamita\n",
            "4 yepez\n",
            "5 yepez\n",
            "6 yepez\n",
            "7 yepez\n"
          ]
        }
      ]
    },
    {
      "cell_type": "code",
      "source": [
        "import numpy as np\n",
        "arreglo=np.array([[1,2,3],[3,2,1]])\n",
        "print(arreglo)\n"
      ],
      "metadata": {
        "id": "dvfzHnHC3SXn",
        "outputId": "f0c1930d-3ddf-4240-a1f0-adaff69fe2fb",
        "colab": {
          "base_uri": "https://localhost:8080/"
        }
      },
      "execution_count": 37,
      "outputs": [
        {
          "output_type": "stream",
          "name": "stdout",
          "text": [
            "[[1 2 3]\n",
            " [3 2 1]]\n"
          ]
        }
      ]
    },
    {
      "cell_type": "code",
      "source": [
        "arr1=np.array([1,2,3])\n",
        "arr2=np.array([4,5,6])\n",
        "print(arr1*arr2)"
      ],
      "metadata": {
        "id": "4Uuqs1RJ4nny",
        "outputId": "40e113b3-ec80-41d2-98a7-0801fcff0060",
        "colab": {
          "base_uri": "https://localhost:8080/"
        }
      },
      "execution_count": 42,
      "outputs": [
        {
          "output_type": "stream",
          "name": "stdout",
          "text": [
            "[ 4 10 18]\n"
          ]
        }
      ]
    }
  ]
}
