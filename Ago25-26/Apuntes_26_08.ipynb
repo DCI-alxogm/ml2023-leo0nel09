{
  "nbformat": 4,
  "nbformat_minor": 0,
  "metadata": {
    "colab": {
      "provenance": [],
      "authorship_tag": "ABX9TyNX+QNn7DUVeRbmlGiIaOmX",
      "include_colab_link": true
    },
    "kernelspec": {
      "name": "python3",
      "display_name": "Python 3"
    },
    "language_info": {
      "name": "python"
    }
  },
  "cells": [
    {
      "cell_type": "markdown",
      "metadata": {
        "id": "view-in-github",
        "colab_type": "text"
      },
      "source": [
        "<a href=\"https://colab.research.google.com/github/DCI-alxogm/ml2023-leo0nel09/blob/main/Ago25-26/Apuntes_26_08.ipynb\" target=\"_parent\"><img src=\"https://colab.research.google.com/assets/colab-badge.svg\" alt=\"Open In Colab\"/></a>"
      ]
    },
    {
      "cell_type": "code",
      "execution_count": null,
      "metadata": {
        "id": "BRC5DJLMbe3W"
      },
      "outputs": [],
      "source": []
    },
    {
      "cell_type": "markdown",
      "source": [
        "MINIMOS CUADRADOS REGULARIZADOS\n",
        "Despues de normalizar no pasara por todos los puntos, si no se normaliza al validar no funcionara igual.\n",
        "Sobre ajuste: modelo pasa por cada punto y no generaliza bien.\n",
        "Minimo valor de la funcion costo = 0, si es 0 esta sobreajustando,\n",
        "regularizar evita sobreajustar.   Traid-off\n",
        "FUNCION COSTO----- checar\n",
        "CALCULAR DERIVADA, IGUALARA A 0 Y DESPEJAR"
      ],
      "metadata": {
        "id": "NS7-tjBsbggf"
      }
    },
    {
      "cell_type": "markdown",
      "source": [
        "GRADIENTE DESCENDIENTE\n",
        "\n",
        "Definicion de la funcion costo\n",
        "L= 1/2N sum, desde i, (f(xi,w)-ti)^2\n",
        "Objetivo es minimizar L, como funcion de w\n",
        "\n",
        "Elegir unos pesos inciales y hacer variaciones en torno a esos pesos iniciales\n",
        "w0=w0        wo-alpha dL/dwo       son derivadas parciales\n",
        "w1=w1,0         w1-alpha dL/dw1\n",
        "wn=wn0\n",
        "parte de un peso incial(Arbitrario) despues ese peso inicial se actualiza con informacion de la derivada de la funcion costo\n"
      ],
      "metadata": {
        "id": "Rzf1L5nf2fx4"
      }
    }
  ]
}