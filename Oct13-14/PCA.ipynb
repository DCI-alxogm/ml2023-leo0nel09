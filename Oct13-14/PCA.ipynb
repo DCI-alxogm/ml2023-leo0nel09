{
  "nbformat": 4,
  "nbformat_minor": 0,
  "metadata": {
    "colab": {
      "provenance": [],
      "authorship_tag": "ABX9TyNNawROXrEbt1EjtJpNxoVw",
      "include_colab_link": true
    },
    "kernelspec": {
      "name": "python3",
      "display_name": "Python 3"
    },
    "language_info": {
      "name": "python"
    }
  },
  "cells": [
    {
      "cell_type": "markdown",
      "metadata": {
        "id": "view-in-github",
        "colab_type": "text"
      },
      "source": [
        "<a href=\"https://colab.research.google.com/github/DCI-alxogm/ml2023-leo0nel09/blob/main/Oct13-14/PCA.ipynb\" target=\"_parent\"><img src=\"https://colab.research.google.com/assets/colab-badge.svg\" alt=\"Open In Colab\"/></a>"
      ]
    },
    {
      "cell_type": "markdown",
      "source": [
        "Reduccion de dimensiones PCA: ANALISIS DE COMPONENTES PRINCIPALES\n",
        "Calculo de iegen vectores y eigen valores de una matriz\n",
        "N observaciones K variables           --- Matriz Ermitiana (como continua)\n",
        "\n",
        "in the file compute_sdss_pca.py"
      ],
      "metadata": {
        "id": "IzIFdqmC0frM"
      }
    },
    {
      "cell_type": "code",
      "source": [
        "import numpy as np\n",
        "from matplotlib import pyplot as plt\n",
        "from sklearn.decomposition import PCA\n",
        "from astroML.datasets import sdss_corrected_spectra           #!pip install astroML\n",
        "from astroML.utils.decorators import pickle_results"
      ],
      "metadata": {
        "id": "FFSYRF3n9lHO"
      },
      "execution_count": 3,
      "outputs": []
    },
    {
      "cell_type": "code",
      "source": [
        "if \"setup_text_plots\" not in globals():\n",
        "    from astroML.plotting import setup_text_plots\n",
        "setup_text_plots(fontsize=8, usetex=True)"
      ],
      "metadata": {
        "id": "kjExY_b7--x9"
      },
      "execution_count": 5,
      "outputs": []
    },
    {
      "cell_type": "code",
      "source": [
        "data = sdss_corrected_spectra.fetch_sdss_corrected_spectra()\n",
        "spectra = sdss_corrected_spectra.reconstruct_spectra(data)\n",
        "wavelengths = sdss_corrected_spectra.compute_wavelengths(data)"
      ],
      "metadata": {
        "id": "DCxUJe6bAroO"
      },
      "execution_count": 6,
      "outputs": []
    },
    {
      "cell_type": "code",
      "source": [
        "# Compute PCA components\n",
        "\n",
        "# Eigenvalues can be computed using PCA as in the commented code below:\n",
        "\n",
        "#from sklearn.decomposition import PCA\n",
        "#pca = PCA()\n",
        "#pca.fit(spectra)\n",
        "#evals = pca.explained_variance_ratio_\n",
        "#evals_cs = evals.cumsum()\n",
        "\n",
        "#  because the spectra have been reconstructed from masked values, this\n",
        "#  is not exactly correct in this case: we'll use the values computed\n",
        "#  in the file compute_sdss_pca.py\n",
        "#Calculo de eigenvalores\n",
        "evals = data['evals'] ** 2                #Caclulo al cuadrado de valores propios en Diccionario \"data\" para \"evals\"\n",
        "evals_cs = evals.cumsum()                 #calcula la suma acumulativa de los valores propios\n",
        "evals_cs /= evals_cs[-1]                  #se divide la suma acumulativa entre el ultimo valor\n",
        "evecs = data['evecs']                     #Se asignan valores a evecs, en el diccionario data para evecs.\n",
        "spec_mean = spectra.mean(0)"
      ],
      "metadata": {
        "id": "bvqd5hpXBoPk"
      },
      "execution_count": 7,
      "outputs": []
    }
  ]
}