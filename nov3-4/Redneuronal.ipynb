{
  "nbformat": 4,
  "nbformat_minor": 0,
  "metadata": {
    "colab": {
      "provenance": [],
      "authorship_tag": "ABX9TyMbFQpl+MUzF4k0MFZOsQ+Z",
      "include_colab_link": true
    },
    "kernelspec": {
      "name": "python3",
      "display_name": "Python 3"
    },
    "language_info": {
      "name": "python"
    }
  },
  "cells": [
    {
      "cell_type": "markdown",
      "metadata": {
        "id": "view-in-github",
        "colab_type": "text"
      },
      "source": [
        "<a href=\"https://colab.research.google.com/github/DCI-alxogm/ml2023-leo0nel09/blob/main/nov3-4/Redneuronal.ipynb\" target=\"_parent\"><img src=\"https://colab.research.google.com/assets/colab-badge.svg\" alt=\"Open In Colab\"/></a>"
      ]
    },
    {
      "cell_type": "code",
      "execution_count": 9,
      "metadata": {
        "colab": {
          "base_uri": "https://localhost:8080/"
        },
        "id": "wzMRkpgYANDP",
        "outputId": "b8d2ec3c-00a6-409d-cd5c-b9c097115054"
      },
      "outputs": [
        {
          "output_type": "stream",
          "name": "stdout",
          "text": [
            "Drive already mounted at /content/drive; to attempt to forcibly remount, call drive.mount(\"/content/drive\", force_remount=True).\n"
          ]
        }
      ],
      "source": [
        "import glob\n",
        "import numpy as np\n",
        "import copy\n",
        "import matplotlib.pyplot as plt\n",
        "import h5py\n",
        "import scipy\n",
        "from PIL import Image\n",
        "from scipy import ndimage\n",
        "\n",
        "%matplotlib inline\n",
        "from google.colab import drive\n",
        "drive.mount('/content/drive')\n",
        "#Los datos corresponden a un subset del dataset cats vs dogs de https://www.kaggle.com/c/dogs-vs-cats\n",
        "files=glob.glob('/content/drive/MyDrive/CATS_DOGS/*')\n",
        "\n",
        "#numero de pixeles para nuestras imágenes.\n",
        "num_px=64\n",
        "\n",
        "train_x=[]\n",
        "train_y=[]\n",
        "for file in files[:100]:\n",
        "    img=Image.open(file)\n",
        "    img=img.resize((num_px,num_px))\n",
        "    data=np.asarray(img)\n",
        "    train_x.append(data)\n",
        "    img.close()\n",
        "    if 'dog' in file:\n",
        "        train_y.append(1)\n",
        "    if 'cat' in file:\n",
        "        train_y.append(0)\n",
        "train_y=np.asarray(train_y)\n",
        "train_x=np.asarray(train_x)\n",
        "\n",
        "test_x=[]\n",
        "test_y=[]\n",
        "for file in files[500:]:\n",
        "    #print(file)\n",
        "    img=Image.open(file)\n",
        "    img=img.resize((num_px,num_px))\n",
        "    data=np.asarray(img)\n",
        "    test_x.append(data)\n",
        "    img.close()\n",
        "    if 'dog' in file:\n",
        "        test_y.append(1)\n",
        "    if 'cat' in file:\n",
        "        test_y.append(0)\n",
        "test_y=np.asarray(test_y)\n",
        "test_x=np.asarray(test_x)\n",
        "\n",
        "train_x_flatten = train_x.reshape(train_x.shape[0], -1).T\n",
        "\n",
        "test_x_flatten = test_x.reshape(test_x.shape[0], -1).T\n",
        "\n",
        "train_set_y=train_y.reshape((1,train_y.shape[0]))\n",
        "test_set_y=test_y.reshape((1,test_y.shape[0]))\n",
        "\n",
        "\n",
        "\n",
        "train_set_x= train_x_flatten/255\n",
        "test_set_x= test_x_flatten/255"
      ]
    },
    {
      "cell_type": "code",
      "source": [
        "def sigmoide(z):\n",
        "    return 1 / (1 + np.exp(-z))\n",
        "\n",
        "def inicializar_con_ceros(dim):\n",
        "    return np.zeros((dim, 1)), 0\n",
        "\n",
        "def propagacion(w, b, X, Y):\n",
        "    m = X.shape[1]\n",
        "    A = sigmoide(np.dot(w.T, X) + b)\n",
        "    costo = (-1/m) * np.sum(Y * np.log(A) + (1 - Y) * np.log(1 - A))\n",
        "    dw = np.dot(X, (A - Y).T) / m\n",
        "    db = np.sum(A - Y) / m\n",
        "    return {\"dw\": dw, \"db\": db}, costo\n",
        "\n",
        "def optimizar(w, b, X, Y, num_iteraciones, tasa_aprendizaje, imprimir_costo=False):\n",
        "    costos = []\n",
        "    for i in range(num_iteraciones):\n",
        "        gradientes, costo = propagacion(w, b, X, Y)\n",
        "        w -= tasa_aprendizaje * gradientes[\"dw\"]\n",
        "        b -= tasa_aprendizaje * gradientes[\"db\"]\n",
        "        if i % 10 == 0:\n",
        "            costos.append(costo)\n",
        "        if imprimir_costo and i % 10 == 0:\n",
        "            print(\"Costo después de la iteración %i: %f\" % (i, costo))\n",
        "    return {\"w\": w, \"b\": b}, gradientes, costos\n",
        "\n",
        "def predecir(w, b, X):\n",
        "    A = sigmoide(np.dot(w.T, X) + b)\n",
        "    return np.where(A > 0.5, 1, 0)\n",
        "\n",
        "def modelo(train_x, train_y, test_x, test_y, num_iteraciones=2000, tasa_aprendizaje=0.5, imprimir_costo=False):\n",
        "    train_x_aplanado = train_x.reshape(train_x.shape[0], -1).T\n",
        "    test_x_aplanado = test_x.reshape(test_x.shape[0], -1).T\n",
        "    w, b = inicializar_con_ceros(train_x_aplanado.shape[0])\n",
        "    parametros, gradientes, costos = optimizar(w, b, train_x_aplanado, train_y, num_iteraciones, tasa_aprendizaje, imprimir_costo)\n",
        "    Y_prediccion_test = predecir(parametros[\"w\"], parametros[\"b\"], test_x_aplanado)\n",
        "    Y_prediccion_train = predecir(parametros[\"w\"], parametros[\"b\"], train_x_aplanado)\n",
        "    return {\"costos\": costos, \"Y_prediccion_test\": Y_prediccion_test, \"Y_prediccion_train\": Y_prediccion_train, \"w\": parametros[\"w\"], \"b\": parametros[\"b\"], \"tasa_aprendizaje\": tasa_aprendizaje, \"num_iteraciones\": num_iteraciones}\n",
        "\n",
        "d = model(train_x, train_y, test_x, test_y, num_iterations=100, taza_aprendizaje=0.0000005, print_costo=True) # Llama a la función model"
      ],
      "metadata": {
        "colab": {
          "base_uri": "https://localhost:8080/"
        },
        "id": "Reghxld2APkf",
        "outputId": "36db3c7e-908d-457f-c580-7e0ada2ba4d0"
      },
      "execution_count": 10,
      "outputs": [
        {
          "output_type": "stream",
          "name": "stdout",
          "text": [
            "Cost after iteration 0: 0.693147\n",
            "Cost after iteration 10: 3.955771\n",
            "Cost after iteration 20: 3.526754\n",
            "Cost after iteration 30: 10.551256\n",
            "Cost after iteration 40: 1.180591\n",
            "Cost after iteration 50: 6.541668\n",
            "Cost after iteration 60: 9.271857\n",
            "Cost after iteration 70: 8.797126\n",
            "Cost after iteration 80: 0.427908\n",
            "Cost after iteration 90: 6.281967\n",
            "train accuracy: 81.0 %\n",
            "test accuracy: 60.06216006216006 %\n"
          ]
        }
      ]
    }
  ]
}